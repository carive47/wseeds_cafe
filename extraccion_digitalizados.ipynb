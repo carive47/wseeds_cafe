{
 "cells": [
  {
   "cell_type": "code",
   "execution_count": null,
   "id": "3da03b22",
   "metadata": {},
   "outputs": [
    {
     "name": "stdout",
     "output_type": "stream",
     "text": [
      "Extracción completada.\n"
     ]
    }
   ],
   "source": [
    "import zipfile\n",
    "import os\n",
    "\n",
    "# Carpeta raíz donde están las subcarpetas con los .zip --- \n",
    "# tablas contiene una carpeta por cada finca y cada capeta de finca contiene una carpeta comprimida por cada imagen que se digitalizó \"\n",
    "# cada carpeta comprimita tiene un archivo con los datos y otro extra\n",
    "\n",
    "ruta_raiz = r'C:\\Users\\usuario\\wseeds\\cafe\\tablas'\n",
    "# Ruta de salida para todos los archivos extraídos\n",
    "ruta_salida = r'C:\\Users\\usuario\\wseeds\\cafe\\tablas_unzip'\n",
    "\n",
    "# Crear carpeta de salida si no existe\n",
    "os.makedirs(ruta_salida, exist_ok=True)\n",
    "\n",
    "# Recorrer todas las subcarpetas dentro de la carpeta raíz\n",
    "for carpeta_actual, subcarpetas, archivos in os.walk(ruta_raiz):\n",
    "    for archivo in archivos:\n",
    "        if archivo.endswith('.zip'):\n",
    "            ruta_zip = os.path.join(carpeta_actual, archivo)\n",
    "\n",
    "            # Obtener el nombre de la subcarpeta inmediata (la que contiene al zip)\n",
    "            carpeta_padre = os.path.basename(carpeta_actual)\n",
    "\n",
    "            with zipfile.ZipFile(ruta_zip, 'r') as zip_ref:\n",
    "                for nombre in zip_ref.namelist():\n",
    "                    # Solo extraer si el archivo contiene \"table-1\" en el nombre\n",
    "                    if 'table-1' in os.path.basename(nombre):\n",
    "                        # Construir nombre \n",
    "                        extension = os.path.splitext(nombre)[1]\n",
    "                        nombre_salida = f\"{carpeta_padre}__{os.path.splitext(archivo)[0]}{extension}\"\n",
    "                        ruta_destino = os.path.join(ruta_salida, nombre_salida)\n",
    "\n",
    "                        with open(ruta_destino, 'wb') as f_out:\n",
    "                            f_out.write(zip_ref.read(nombre))\n",
    "                        break  \n",
    "\n",
    "print(\"documentos extraidos y renombrados.\")\n",
    "\n"
   ]
  },
  {
   "cell_type": "code",
   "execution_count": null,
   "id": "67fe73bb",
   "metadata": {},
   "outputs": [],
   "source": []
  }
 ],
 "metadata": {
  "kernelspec": {
   "display_name": "Python 3",
   "language": "python",
   "name": "python3"
  },
  "language_info": {
   "codemirror_mode": {
    "name": "ipython",
    "version": 3
   },
   "file_extension": ".py",
   "mimetype": "text/x-python",
   "name": "python",
   "nbconvert_exporter": "python",
   "pygments_lexer": "ipython3",
   "version": "3.11.9"
  }
 },
 "nbformat": 4,
 "nbformat_minor": 5
}
